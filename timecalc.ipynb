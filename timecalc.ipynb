{
 "cells": [
  {
   "cell_type": "markdown",
   "id": "79a9c34e",
   "metadata": {},
   "source": [
    "# Time duration calculation\n",
    "\n",
    "Here we calculate the duration of time between two events that happen in different\n",
    "time zones and work out if the current time is before the first event, after the\n",
    "second event, or between the events. Key things to remember are:\n",
    "\n",
    "* Times should be represented as datetime objects from the datetime module.\n",
    "* These need to be \"aware\" so must carry timezone infomation.\n",
    "* We now (as of python 3.9) have a way to find timezone infomation (including daylight saving changes) \n",
    "in IANA format via the timeinfo module. Prior to python 3.9 this was not in the standard libary.\n",
    "* Differences in times are represented as timedelta objects. These are returned when we subtract\n",
    "datetimes from each other.\n",
    "* We need to know when \"now\" is. This also needs to be timezone aware, so we choose to use UTC.\n",
    "* It is helpful to use the ISO (8601) format for reporting times and dates.\n",
    "\n",
    "Hopefully the code below is clear."
   ]
  },
  {
   "cell_type": "code",
   "execution_count": 1,
   "id": "636af61e",
   "metadata": {},
   "outputs": [],
   "source": [
    "# Module imports - all in the standard libary\n",
    "import datetime as dt\n",
    "import zoneinfo"
   ]
  },
  {
   "cell_type": "code",
   "execution_count": 2,
   "id": "bd53f5f5",
   "metadata": {},
   "outputs": [
    {
     "name": "stdout",
     "output_type": "stream",
     "text": [
      "Start time is: 2021-08-25T11:30:00+01:00\n",
      "End time is: 2021-12-15T22:30:00-06:00\n",
      "Current time is: 2021-10-20T20:45:46.824920+00:00\n"
     ]
    }
   ],
   "source": [
    "# Choose and report our start times and end times\n",
    "start_time = dt.datetime(2021, 8, 25, hour=11, minute=30, \n",
    "                               tzinfo=zoneinfo.ZoneInfo('Europe/London'))\n",
    "\n",
    "end_time = dt.datetime(2021, 12, 15, hour=22, minute=30,\n",
    "                            tzinfo=zoneinfo.ZoneInfo('US/Central'))\n",
    "\n",
    "now = dt.datetime.now(dt.timezone.utc)\n",
    "\n",
    "print(\"Start time is:\", start_time.isoformat())\n",
    "print(\"End time is:\", end_time.isoformat())\n",
    "print(\"Current time is:\", now.isoformat())"
   ]
  },
  {
   "cell_type": "code",
   "execution_count": 3,
   "id": "101c0578",
   "metadata": {},
   "outputs": [
    {
     "name": "stdout",
     "output_type": "stream",
     "text": [
      "Time period lasts for 112 days, 18:00:00\n",
      "Current time is 50.0% of way through period\n",
      "Time to go is 56 days, 7:44:13.175080\n"
     ]
    }
   ],
   "source": [
    "# Logic to work out when \"now\" is with respect to the time period\n",
    "# Can you make this into a function and add sensible assert statments?\n",
    "\n",
    "duration = end_time - start_time\n",
    "print(\"Time period lasts for\", duration)\n",
    "\n",
    "if (now - start_time) < dt.timedelta():\n",
    "    print(\"Current time is\", start_time - now, \"BEFORE start of time period\")\n",
    "elif (end_time - now) < dt.timedelta():\n",
    "    print(\"Current time is\", now - end_time, \"AFTER end of time period\")\n",
    "else:\n",
    "    fraction = (now - start_time)/duration\n",
    "    print(\"Current time is {:.1%} of way through period\".format(fraction))\n",
    "    print(\"Time to go is\", end_time - now)"
   ]
  },
  {
   "cell_type": "code",
   "execution_count": null,
   "id": "828f015d",
   "metadata": {},
   "outputs": [],
   "source": []
  }
 ],
 "metadata": {
  "kernelspec": {
   "display_name": "Python 3 (ipykernel)",
   "language": "python",
   "name": "python3"
  },
  "language_info": {
   "codemirror_mode": {
    "name": "ipython",
    "version": 3
   },
   "file_extension": ".py",
   "mimetype": "text/x-python",
   "name": "python",
   "nbconvert_exporter": "python",
   "pygments_lexer": "ipython3",
   "version": "3.9.7"
  }
 },
 "nbformat": 4,
 "nbformat_minor": 5
}
